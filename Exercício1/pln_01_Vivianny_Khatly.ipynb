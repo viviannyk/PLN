{
  "nbformat": 4,
  "nbformat_minor": 0,
  "metadata": {
    "colab": {
      "provenance": []
    },
    "kernelspec": {
      "name": "python3",
      "display_name": "Python 3"
    },
    "language_info": {
      "name": "python"
    }
  },
  "cells": [
    {
      "cell_type": "code",
      "source": [
        "import pandas as pd\n",
        "import random\n",
        "import re\n",
        "import nltk\n",
        "import matplotlib.pyplot as plt\n",
        "from collections import defaultdict\n",
        "from nltk.util import ngrams\n",
        "import math"
      ],
      "metadata": {
        "id": "tNQ0v7J704H1"
      },
      "execution_count": 39,
      "outputs": []
    },
    {
      "cell_type": "code",
      "source": [
        "arquivo_csv = \"BregasRecife - Página1.csv\"\n",
        "df = pd.read_csv(arquivo_csv, encoding='utf-8')"
      ],
      "metadata": {
        "id": "gJ1HEUJA1FiZ"
      },
      "execution_count": 40,
      "outputs": []
    },
    {
      "cell_type": "code",
      "source": [
        "texto = \" \".join(df[\"letra\"].dropna()).lower()"
      ],
      "metadata": {
        "id": "3cgdQtlF1R2T"
      },
      "execution_count": 41,
      "outputs": []
    },
    {
      "cell_type": "code",
      "source": [
        "tokens = re.findall(r'\\b\\w+\\b', texto)"
      ],
      "metadata": {
        "id": "l0BvfCiZ1WHm"
      },
      "execution_count": 42,
      "outputs": []
    },
    {
      "cell_type": "code",
      "source": [
        "# Criando modelo de trigramas\n",
        "trigramas = list(ngrams(tokens, 3))\n",
        "modelo = defaultdict(lambda: defaultdict(int))"
      ],
      "metadata": {
        "id": "PJSvTSFMPJlp"
      },
      "execution_count": 43,
      "outputs": []
    },
    {
      "cell_type": "code",
      "source": [
        "for w1, w2, w3 in trigramas:\n",
        "    modelo[(w1, w2)][w3] += 1"
      ],
      "metadata": {
        "id": "SdQQlKuBPP8O"
      },
      "execution_count": 44,
      "outputs": []
    },
    {
      "cell_type": "code",
      "source": [
        "# Convertendo as contagens em probabilidades\n",
        "for w1_w2 in modelo:\n",
        "    total = float(sum(modelo[w1_w2].values()))\n",
        "    for w3 in modelo[w1_w2]:\n",
        "        modelo[w1_w2][w3] /= total"
      ],
      "metadata": {
        "id": "J0D4LCcqPRcW"
      },
      "execution_count": 45,
      "outputs": []
    },
    {
      "cell_type": "code",
      "source": [
        "# Função para calcular a entropia de Shannon\n",
        "def calcular_entropia(modelo):\n",
        "    entropia_total = 0\n",
        "    for w1_w2 in modelo:\n",
        "        for w3, prob in modelo[w1_w2].items():\n",
        "            entropia_total -= prob * math.log(prob, 2)  # Cálculo da entropia\n",
        "    return entropia_total"
      ],
      "metadata": {
        "id": "tJ6SMlorPWre"
      },
      "execution_count": 46,
      "outputs": []
    },
    {
      "cell_type": "code",
      "source": [
        "entropia = calcular_entropia(modelo)\n",
        "print(f\"Entropia do modelo: {entropia:.4f}\")"
      ],
      "metadata": {
        "colab": {
          "base_uri": "https://localhost:8080/"
        },
        "id": "98414FKvPeQM",
        "outputId": "0311f90c-a546-4153-e497-25dce7fd3e49"
      },
      "execution_count": 47,
      "outputs": [
        {
          "output_type": "stream",
          "name": "stdout",
          "text": [
            "Entropia do modelo: 722.5289\n"
          ]
        }
      ]
    },
    {
      "cell_type": "code",
      "source": [
        "def gerar_texto(modelo, tamanho=50):\n",
        "    texto_gerado = []\n",
        "    inicio = random.choice(list(modelo.keys()))\n",
        "    texto_gerado.extend(inicio)\n",
        "\n",
        "    for _ in range(tamanho - 2):\n",
        "        prev = tuple(texto_gerado[-2:])\n",
        "        if prev not in modelo:\n",
        "            break\n",
        "        palavras, probs = zip(*modelo[prev].items())\n",
        "        proxima_palavra = random.choices(palavras, weights=probs)[0]\n",
        "        texto_gerado.append(proxima_palavra)\n",
        "\n",
        "    return ' '.join(texto_gerado)"
      ],
      "metadata": {
        "id": "2xGhnv7PPf6H"
      },
      "execution_count": 48,
      "outputs": []
    },
    {
      "cell_type": "code",
      "source": [
        "texto_gerado = gerar_texto(modelo, 50)\n",
        "print(\"Texto gerado:\", texto_gerado)"
      ],
      "metadata": {
        "colab": {
          "base_uri": "https://localhost:8080/"
        },
        "id": "07VsHSzrPk16",
        "outputId": "98f8ca57-a8ed-4f5c-ec1f-1dcda925c78e"
      },
      "execution_count": 49,
      "outputs": [
        {
          "output_type": "stream",
          "name": "stdout",
          "text": [
            "Texto gerado: você agradeço por te ter eu sempre volto volto pra ti volto volto eu sempre volto volto pra ti volto volto eu sempre volto volto pra você preocupa não pra essa foda que é o louco entre nós eu que disse adeus querendo ficar você que se sente muito mais\n"
          ]
        }
      ]
    },
    {
      "cell_type": "code",
      "source": [
        "frequencias = defaultdict(int)\n",
        "for w1_w2 in modelo:\n",
        "    for w3 in modelo[w1_w2]:\n",
        "        frequencias[w3] += modelo[w1_w2][w3]"
      ],
      "metadata": {
        "id": "HjIFbopZPt5G"
      },
      "execution_count": 50,
      "outputs": []
    },
    {
      "cell_type": "code",
      "source": [
        "palavras, counts = zip(*sorted(frequencias.items(), key=lambda x: x[1], reverse=True))"
      ],
      "metadata": {
        "id": "YOEOmmFSPxDP"
      },
      "execution_count": 51,
      "outputs": []
    },
    {
      "cell_type": "code",
      "source": [
        "plt.figure(figsize=(10, 6))\n",
        "plt.bar(palavras[:20], counts[:20])\n",
        "plt.xticks(rotation=90)\n",
        "plt.title(\"Distribuição de Probabilidades das 20 Palavras Mais Frequentes\")\n",
        "plt.xlabel(\"Palavras\")\n",
        "plt.ylabel(\"Probabilidade\")\n",
        "plt.show()"
      ],
      "metadata": {
        "colab": {
          "base_uri": "https://localhost:8080/",
          "height": 586
        },
        "id": "E0K7JyipPy4-",
        "outputId": "11843f2f-a5d5-4695-9287-04382d0b2342"
      },
      "execution_count": 52,
      "outputs": [
        {
          "output_type": "display_data",
          "data": {
            "text/plain": [
              "<Figure size 1000x600 with 1 Axes>"
            ],
            "image/png": "[encoded data removed]"
          },
          "metadata": {}
        }
      ]
    }
  ]
}